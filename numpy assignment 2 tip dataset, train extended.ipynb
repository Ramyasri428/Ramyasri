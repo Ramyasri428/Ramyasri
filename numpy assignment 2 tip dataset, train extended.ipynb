{
 "cells": [
  {
   "cell_type": "markdown",
   "id": "ae4e6898",
   "metadata": {},
   "source": [
    "# Numpy on tip dataset"
   ]
  },
  {
   "cell_type": "code",
   "execution_count": 2,
   "id": "ac5eb09c",
   "metadata": {},
   "outputs": [],
   "source": [
    "import numpy as np"
   ]
  },
  {
   "cell_type": "code",
   "execution_count": 3,
   "id": "6521daec",
   "metadata": {},
   "outputs": [
    {
     "data": {
      "text/plain": [
       "array([[  0.  ,  16.99,   1.01, ...,   1.  ,   0.  ,   2.  ],\n",
       "       [  1.  ,  10.34,   1.66, ...,   1.  ,   0.  ,   3.  ],\n",
       "       [  2.  ,  21.01,   3.5 , ...,   1.  ,   0.  ,   3.  ],\n",
       "       ...,\n",
       "       [241.  ,  22.67,   2.  , ...,   0.  ,   0.  ,   2.  ],\n",
       "       [242.  ,  17.82,   1.75, ...,   0.  ,   0.  ,   2.  ],\n",
       "       [243.  ,  18.78,   3.  , ...,   2.  ,   0.  ,   2.  ]])"
      ]
     },
     "execution_count": 3,
     "metadata": {},
     "output_type": "execute_result"
    }
   ],
   "source": [
    "x = np.genfromtxt(r\"C:\\Users\\Ramyasri\\Downloads\\tipsf.csv\",delimiter=\",\",skip_header = 1)\n",
    "x"
   ]
  },
  {
   "cell_type": "code",
   "execution_count": 4,
   "id": "32b84cd9",
   "metadata": {},
   "outputs": [
    {
     "data": {
      "text/plain": [
       "(244, 8)"
      ]
     },
     "execution_count": 4,
     "metadata": {},
     "output_type": "execute_result"
    }
   ],
   "source": [
    "x.shape"
   ]
  },
  {
   "cell_type": "markdown",
   "id": "94a1bd32",
   "metadata": {},
   "source": [
    "### 1. what is the total bill value"
   ]
  },
  {
   "cell_type": "code",
   "execution_count": 5,
   "id": "7866e627",
   "metadata": {},
   "outputs": [
    {
     "data": {
      "text/plain": [
       "4827.77"
      ]
     },
     "execution_count": 5,
     "metadata": {},
     "output_type": "execute_result"
    }
   ],
   "source": [
    "a = x[:,1:2]\n",
    "a\n",
    "np.sum(a)"
   ]
  },
  {
   "cell_type": "markdown",
   "id": "0cb5565b",
   "metadata": {},
   "source": [
    "### 2.what is the tip value"
   ]
  },
  {
   "cell_type": "code",
   "execution_count": 6,
   "id": "66be9132",
   "metadata": {},
   "outputs": [
    {
     "data": {
      "text/plain": [
       "731.5799999999999"
      ]
     },
     "execution_count": 6,
     "metadata": {},
     "output_type": "execute_result"
    }
   ],
   "source": [
    "b = x[:,2:3]\n",
    "b\n",
    "np.sum(b)"
   ]
  },
  {
   "cell_type": "markdown",
   "id": "2f2c5a15",
   "metadata": {},
   "source": [
    "### 3. Count how many sun,sat,thu,fri are there"
   ]
  },
  {
   "cell_type": "code",
   "execution_count": 7,
   "id": "9e295167",
   "metadata": {},
   "outputs": [
    {
     "data": {
      "text/plain": [
       "array([0., 1., 2., 3.])"
      ]
     },
     "execution_count": 7,
     "metadata": {},
     "output_type": "execute_result"
    }
   ],
   "source": [
    "c = x[:,5:6]\n",
    "c\n",
    "np.unique(c)"
   ]
  },
  {
   "cell_type": "code",
   "execution_count": 35,
   "id": "65ed8d69",
   "metadata": {},
   "outputs": [
    {
     "data": {
      "text/plain": [
       "(array([0., 1., 2., 3.]), array([87, 76, 62, 19], dtype=int64))"
      ]
     },
     "execution_count": 35,
     "metadata": {},
     "output_type": "execute_result"
    }
   ],
   "source": [
    "np.unique(c,return_counts = True)"
   ]
  },
  {
   "cell_type": "markdown",
   "id": "5c6a8a8f",
   "metadata": {},
   "source": [
    "### 4. How many smokers are there"
   ]
  },
  {
   "cell_type": "code",
   "execution_count": 8,
   "id": "01046c30",
   "metadata": {},
   "outputs": [
    {
     "data": {
      "text/plain": [
       "93.0"
      ]
     },
     "execution_count": 8,
     "metadata": {},
     "output_type": "execute_result"
    }
   ],
   "source": [
    "d = x[:,4:5]\n",
    "d\n",
    "np.sum(d)"
   ]
  },
  {
   "cell_type": "markdown",
   "id": "6cb3594e",
   "metadata": {},
   "source": [
    "### 5. What is the average tip spent by male and female"
   ]
  },
  {
   "cell_type": "code",
   "execution_count": 9,
   "id": "42fb3414",
   "metadata": {},
   "outputs": [
    {
     "data": {
      "text/plain": [
       "2.99827868852459"
      ]
     },
     "execution_count": 9,
     "metadata": {},
     "output_type": "execute_result"
    }
   ],
   "source": [
    "e = x[:,2:3]\n",
    "e\n",
    "np.mean(e)"
   ]
  },
  {
   "cell_type": "markdown",
   "id": "2374be1d",
   "metadata": {},
   "source": [
    "### 6.How much amount have been spent by male and female"
   ]
  },
  {
   "cell_type": "code",
   "execution_count": 10,
   "id": "9e2cfa72",
   "metadata": {},
   "outputs": [
    {
     "data": {
      "text/plain": [
       "5559.35"
      ]
     },
     "execution_count": 10,
     "metadata": {},
     "output_type": "execute_result"
    }
   ],
   "source": [
    "f = x[:,1:3]\n",
    "f\n",
    "np.sum(f)"
   ]
  },
  {
   "cell_type": "markdown",
   "id": "52133d87",
   "metadata": {},
   "source": [
    "### 7.What is the min and max tip given"
   ]
  },
  {
   "cell_type": "code",
   "execution_count": 11,
   "id": "259a3a78",
   "metadata": {},
   "outputs": [
    {
     "data": {
      "text/plain": [
       "10.0"
      ]
     },
     "execution_count": 11,
     "metadata": {},
     "output_type": "execute_result"
    }
   ],
   "source": [
    "g = x[:,2:3]\n",
    "g\n",
    "np.max(g)"
   ]
  },
  {
   "cell_type": "code",
   "execution_count": 15,
   "id": "1011fb58",
   "metadata": {},
   "outputs": [
    {
     "data": {
      "text/plain": [
       "1.0"
      ]
     },
     "execution_count": 15,
     "metadata": {},
     "output_type": "execute_result"
    }
   ],
   "source": [
    "np.min(g)"
   ]
  },
  {
   "cell_type": "markdown",
   "id": "c990a2e6",
   "metadata": {},
   "source": [
    "### 8.How many male and female are going for dinner and lunch"
   ]
  },
  {
   "cell_type": "code",
   "execution_count": 12,
   "id": "0307f9b5",
   "metadata": {},
   "outputs": [
    {
     "data": {
      "text/plain": [
       "157.0"
      ]
     },
     "execution_count": 12,
     "metadata": {},
     "output_type": "execute_result"
    }
   ],
   "source": [
    "h = x[:,3:4]\n",
    "h\n",
    "np.sum(h)"
   ]
  },
  {
   "cell_type": "markdown",
   "id": "a73af3d2",
   "metadata": {},
   "source": [
    "### 9. Find out the average size"
   ]
  },
  {
   "cell_type": "code",
   "execution_count": 13,
   "id": "546e207b",
   "metadata": {
    "scrolled": true
   },
   "outputs": [
    {
     "data": {
      "text/plain": [
       "2.569672131147541"
      ]
     },
     "execution_count": 13,
     "metadata": {},
     "output_type": "execute_result"
    }
   ],
   "source": [
    "i = x[:,7:]\n",
    "i\n",
    "np.mean(i)"
   ]
  },
  {
   "cell_type": "markdown",
   "id": "828fa812",
   "metadata": {},
   "source": [
    "### 10. How many male smoker and female smoker are there"
   ]
  },
  {
   "cell_type": "code",
   "execution_count": 14,
   "id": "22e93e6d",
   "metadata": {},
   "outputs": [
    {
     "data": {
      "text/plain": [
       "array([0., 1.])"
      ]
     },
     "execution_count": 14,
     "metadata": {},
     "output_type": "execute_result"
    }
   ],
   "source": [
    "j = x[:,4:5]\n",
    "j\n",
    "np.unique(j)"
   ]
  },
  {
   "cell_type": "code",
   "execution_count": 37,
   "id": "5e2c6d1b",
   "metadata": {},
   "outputs": [
    {
     "data": {
      "text/plain": [
       "(array([0., 1.]), array([151,  93], dtype=int64))"
      ]
     },
     "execution_count": 37,
     "metadata": {},
     "output_type": "execute_result"
    }
   ],
   "source": [
    "np.unique(j,return_counts = True)"
   ]
  },
  {
   "cell_type": "code",
   "execution_count": null,
   "id": "c03a7161",
   "metadata": {},
   "outputs": [],
   "source": []
  },
  {
   "cell_type": "code",
   "execution_count": null,
   "id": "feedeffe",
   "metadata": {},
   "outputs": [],
   "source": []
  },
  {
   "cell_type": "markdown",
   "id": "df967a15",
   "metadata": {},
   "source": [
    "#  Numpy on train extended"
   ]
  },
  {
   "cell_type": "code",
   "execution_count": 1,
   "id": "e495640d",
   "metadata": {},
   "outputs": [],
   "source": [
    "import numpy as np"
   ]
  },
  {
   "cell_type": "code",
   "execution_count": 2,
   "id": "342895c1",
   "metadata": {},
   "outputs": [
    {
     "data": {
      "text/plain": [
       "array([[ 1.575     ,  1.225     ,  0.375     , ...,  6.3219385 ,\n",
       "         9.63883   , 10.        ],\n",
       "       [ 1.2375    ,  1.        ,  0.375     , ...,  3.798833  ,\n",
       "         7.654365  , 19.        ],\n",
       "       [ 1.45      ,  1.1625    ,  0.4125    , ...,  7.01650125,\n",
       "         7.257472  , 11.        ],\n",
       "       ...,\n",
       "       [ 1.125     ,  0.9125    ,  0.2875    , ...,  1.984465  ,\n",
       "         3.118445  ,  7.        ],\n",
       "       [ 1.625     ,  1.275     ,  0.4125    , ...,  7.86698625,\n",
       "        10.489315  , 11.        ],\n",
       "       [ 1.5875    ,  1.25      ,  0.3875    , ...,  7.38504475,\n",
       "         8.788345  , 11.        ]])"
      ]
     },
     "execution_count": 2,
     "metadata": {},
     "output_type": "execute_result"
    }
   ],
   "source": [
    "z = np.genfromtxt(r\"C:\\Users\\Ramyasri\\Downloads\\train_extended.csv\",delimiter=\",\",skip_header = 1)\n",
    "z"
   ]
  },
  {
   "cell_type": "code",
   "execution_count": 43,
   "id": "6f30e9e0",
   "metadata": {},
   "outputs": [
    {
     "data": {
      "text/plain": [
       "(200000, 8)"
      ]
     },
     "execution_count": 43,
     "metadata": {},
     "output_type": "execute_result"
    }
   ],
   "source": [
    "z.shape"
   ]
  },
  {
   "cell_type": "markdown",
   "id": "ff764b53",
   "metadata": {},
   "source": [
    "### 1. What is the max and min length"
   ]
  },
  {
   "cell_type": "code",
   "execution_count": 44,
   "id": "31aad8d0",
   "metadata": {},
   "outputs": [
    {
     "data": {
      "text/plain": [
       "array([[1.575 ],\n",
       "       [1.2375],\n",
       "       [1.45  ],\n",
       "       ...,\n",
       "       [1.125 ],\n",
       "       [1.625 ],\n",
       "       [1.5875]])"
      ]
     },
     "execution_count": 44,
     "metadata": {},
     "output_type": "execute_result"
    }
   ],
   "source": [
    "a = z[:, 0:1]\n",
    "a"
   ]
  },
  {
   "cell_type": "code",
   "execution_count": 45,
   "id": "46bdf4d1",
   "metadata": {},
   "outputs": [
    {
     "data": {
      "text/plain": [
       "7.58349125"
      ]
     },
     "execution_count": 45,
     "metadata": {},
     "output_type": "execute_result"
    }
   ],
   "source": [
    "np.max(a)"
   ]
  },
  {
   "cell_type": "code",
   "execution_count": 46,
   "id": "68ac16bf",
   "metadata": {},
   "outputs": [
    {
     "data": {
      "text/plain": [
       "0.0"
      ]
     },
     "execution_count": 46,
     "metadata": {},
     "output_type": "execute_result"
    }
   ],
   "source": [
    "np.min(a)"
   ]
  },
  {
   "cell_type": "code",
   "execution_count": null,
   "id": "0a77caae",
   "metadata": {},
   "outputs": [],
   "source": []
  },
  {
   "cell_type": "markdown",
   "id": "1925a9c6",
   "metadata": {},
   "source": [
    "### 2. Find out the difference between max and min length"
   ]
  },
  {
   "cell_type": "code",
   "execution_count": 47,
   "id": "e6c79c07",
   "metadata": {},
   "outputs": [
    {
     "data": {
      "text/plain": [
       "7.58349125"
      ]
     },
     "execution_count": 47,
     "metadata": {},
     "output_type": "execute_result"
    }
   ],
   "source": [
    "b = np.max(a) - np.min(a)\n",
    "b"
   ]
  },
  {
   "cell_type": "code",
   "execution_count": null,
   "id": "ef13e624",
   "metadata": {},
   "outputs": [],
   "source": []
  },
  {
   "cell_type": "markdown",
   "id": "fd0fa085",
   "metadata": {},
   "source": [
    "### 3. Find out coloumn wise average"
   ]
  },
  {
   "cell_type": "code",
   "execution_count": 56,
   "id": "efa588d1",
   "metadata": {},
   "outputs": [
    {
     "data": {
      "text/plain": [
       "1.3124480799562501"
      ]
     },
     "execution_count": 56,
     "metadata": {},
     "output_type": "execute_result"
    }
   ],
   "source": [
    "c = z[:,0:1]\n",
    "c\n",
    "np.mean(c)"
   ]
  },
  {
   "cell_type": "code",
   "execution_count": 57,
   "id": "52832d0c",
   "metadata": {},
   "outputs": [
    {
     "data": {
      "text/plain": [
       "1.020320357165"
      ]
     },
     "execution_count": 57,
     "metadata": {},
     "output_type": "execute_result"
    }
   ],
   "source": [
    "c1 = z[:,1:2]\n",
    "c1\n",
    "np.mean(c1)"
   ]
  },
  {
   "cell_type": "code",
   "execution_count": 58,
   "id": "a146b67c",
   "metadata": {},
   "outputs": [
    {
     "data": {
      "text/plain": [
       "0.34602787104999994"
      ]
     },
     "execution_count": 58,
     "metadata": {},
     "output_type": "execute_result"
    }
   ],
   "source": [
    "c2 = z[:,2:3]\n",
    "c2\n",
    "np.mean(c2)"
   ]
  },
  {
   "cell_type": "code",
   "execution_count": 59,
   "id": "385e168b",
   "metadata": {},
   "outputs": [
    {
     "data": {
      "text/plain": [
       "23.123436312982403"
      ]
     },
     "execution_count": 59,
     "metadata": {},
     "output_type": "execute_result"
    }
   ],
   "source": [
    "c3 = z[:,3:4]\n",
    "c3\n",
    "np.mean(c3)"
   ]
  },
  {
   "cell_type": "code",
   "execution_count": 60,
   "id": "6b6cb849",
   "metadata": {},
   "outputs": [
    {
     "data": {
      "text/plain": [
       "9.989370248049001"
      ]
     },
     "execution_count": 60,
     "metadata": {},
     "output_type": "execute_result"
    }
   ],
   "source": [
    "c4 = z[:,4:5]\n",
    "c4\n",
    "np.mean(c4)"
   ]
  },
  {
   "cell_type": "code",
   "execution_count": 61,
   "id": "35d97b71",
   "metadata": {},
   "outputs": [
    {
     "data": {
      "text/plain": [
       "4.993180956748749"
      ]
     },
     "execution_count": 61,
     "metadata": {},
     "output_type": "execute_result"
    }
   ],
   "source": [
    "c5 = z[:,5:6]\n",
    "c5\n",
    "np.mean(c5)"
   ]
  },
  {
   "cell_type": "code",
   "execution_count": 62,
   "id": "63405e6a",
   "metadata": {},
   "outputs": [
    {
     "data": {
      "text/plain": [
       "6.634229147607001"
      ]
     },
     "execution_count": 62,
     "metadata": {},
     "output_type": "execute_result"
    }
   ],
   "source": [
    "c6 = z[:,6:7]\n",
    "c6\n",
    "np.mean(c6)"
   ]
  },
  {
   "cell_type": "code",
   "execution_count": 63,
   "id": "24330640",
   "metadata": {},
   "outputs": [
    {
     "data": {
      "text/plain": [
       "9.950615"
      ]
     },
     "execution_count": 63,
     "metadata": {},
     "output_type": "execute_result"
    }
   ],
   "source": [
    "c7 = z[:,7:8]\n",
    "c7\n",
    "np.mean(c7)"
   ]
  },
  {
   "cell_type": "markdown",
   "id": "8de03748",
   "metadata": {},
   "source": [
    "### 4. Find out all the age whose height is > 0.4"
   ]
  },
  {
   "cell_type": "code",
   "execution_count": 3,
   "id": "057b35fb",
   "metadata": {},
   "outputs": [
    {
     "data": {
      "text/plain": [
       "array([0.375 , 0.375 , 0.4125, ..., 0.2875, 0.4125, 0.3875])"
      ]
     },
     "execution_count": 3,
     "metadata": {},
     "output_type": "execute_result"
    }
   ],
   "source": [
    "d = z[:,2]         # height @@@@@@@@@@@@@@@\n",
    "d"
   ]
  },
  {
   "cell_type": "code",
   "execution_count": 5,
   "id": "6b4f213e",
   "metadata": {},
   "outputs": [
    {
     "data": {
      "text/plain": [
       "array([False, False,  True, ..., False,  True, False])"
      ]
     },
     "execution_count": 5,
     "metadata": {},
     "output_type": "execute_result"
    }
   ],
   "source": [
    "d>0.4"
   ]
  },
  {
   "cell_type": "code",
   "execution_count": 4,
   "id": "0e5ae15a",
   "metadata": {},
   "outputs": [
    {
     "data": {
      "text/plain": [
       "array([10., 19., 11., ...,  7., 11., 11.])"
      ]
     },
     "execution_count": 4,
     "metadata": {},
     "output_type": "execute_result"
    }
   ],
   "source": [
    "d1 = z[:,7]             # age\n",
    "d1"
   ]
  },
  {
   "cell_type": "code",
   "execution_count": 6,
   "id": "e0bce482",
   "metadata": {},
   "outputs": [
    {
     "data": {
      "text/plain": [
       "array([11., 14., 13., ..., 11., 11., 11.])"
      ]
     },
     "execution_count": 6,
     "metadata": {},
     "output_type": "execute_result"
    }
   ],
   "source": [
    "d1[d>0.4]"
   ]
  },
  {
   "cell_type": "code",
   "execution_count": null,
   "id": "d370eb5b",
   "metadata": {},
   "outputs": [],
   "source": []
  },
  {
   "cell_type": "markdown",
   "id": "ce1e24a6",
   "metadata": {},
   "source": [
    "### 5.What is the average height and weight of the persons whose age is 10"
   ]
  },
  {
   "cell_type": "code",
   "execution_count": 15,
   "id": "b306d49f",
   "metadata": {},
   "outputs": [
    {
     "data": {
      "text/plain": [
       "array([10., 19., 11., ...,  7., 11., 11.])"
      ]
     },
     "execution_count": 15,
     "metadata": {},
     "output_type": "execute_result"
    }
   ],
   "source": [
    "e = z[:,7]            # age\n",
    "e"
   ]
  },
  {
   "cell_type": "code",
   "execution_count": 7,
   "id": "ae49ca43",
   "metadata": {},
   "outputs": [
    {
     "data": {
      "text/plain": [
       "array([0.375 , 0.375 , 0.4125, ..., 0.2875, 0.4125, 0.3875])"
      ]
     },
     "execution_count": 7,
     "metadata": {},
     "output_type": "execute_result"
    }
   ],
   "source": [
    "e2 = z[:,2]           # height\n",
    "e2"
   ]
  },
  {
   "cell_type": "code",
   "execution_count": 8,
   "id": "f5ffc746",
   "metadata": {},
   "outputs": [
    {
     "data": {
      "text/plain": [
       "array([31.22697425, 21.885814  , 28.25027675, ..., 10.886208  ,\n",
       "       33.89182725, 34.37376875])"
      ]
     },
     "execution_count": 8,
     "metadata": {},
     "output_type": "execute_result"
    }
   ],
   "source": [
    "e3 = z[:,3]           # weight\n",
    "e3"
   ]
  },
  {
   "cell_type": "code",
   "execution_count": 11,
   "id": "6f98e0b1",
   "metadata": {},
   "outputs": [
    {
     "data": {
      "text/plain": [
       "array([False, False, False, ..., False, False, False])"
      ]
     },
     "execution_count": 11,
     "metadata": {},
     "output_type": "execute_result"
    }
   ],
   "source": [
    "e2 == 10"
   ]
  },
  {
   "cell_type": "code",
   "execution_count": 12,
   "id": "ed215057",
   "metadata": {},
   "outputs": [
    {
     "data": {
      "text/plain": [
       "array([False, False, False, ..., False, False, False])"
      ]
     },
     "execution_count": 12,
     "metadata": {},
     "output_type": "execute_result"
    }
   ],
   "source": [
    "e3 ==10"
   ]
  },
  {
   "cell_type": "code",
   "execution_count": 13,
   "id": "ad19cf9c",
   "metadata": {},
   "outputs": [
    {
     "data": {
      "text/plain": [
       "0.34602787104999994"
      ]
     },
     "execution_count": 13,
     "metadata": {},
     "output_type": "execute_result"
    }
   ],
   "source": [
    "np.mean(e2)"
   ]
  },
  {
   "cell_type": "code",
   "execution_count": 14,
   "id": "bf363bb7",
   "metadata": {},
   "outputs": [
    {
     "data": {
      "text/plain": [
       "23.123436312982403"
      ]
     },
     "execution_count": 14,
     "metadata": {},
     "output_type": "execute_result"
    }
   ],
   "source": [
    "np.mean(e3)"
   ]
  },
  {
   "cell_type": "code",
   "execution_count": null,
   "id": "34cfd088",
   "metadata": {},
   "outputs": [],
   "source": []
  },
  {
   "cell_type": "markdown",
   "id": "4892fbcc",
   "metadata": {},
   "source": [
    "### 6. What is the total shell weight"
   ]
  },
  {
   "cell_type": "code",
   "execution_count": 10,
   "id": "1fd09c61",
   "metadata": {},
   "outputs": [
    {
     "data": {
      "text/plain": [
       "1326845.8295214002"
      ]
     },
     "execution_count": 10,
     "metadata": {},
     "output_type": "execute_result"
    }
   ],
   "source": [
    "f = z[:,6:7]\n",
    "f\n",
    "np.sum(f)"
   ]
  },
  {
   "cell_type": "markdown",
   "id": "1981b2a5",
   "metadata": {},
   "source": [
    "### 7. How many persons belongs to each and every unique age"
   ]
  },
  {
   "cell_type": "code",
   "execution_count": 33,
   "id": "b4b197f6",
   "metadata": {},
   "outputs": [
    {
     "data": {
      "text/plain": [
       "array([[10.],\n",
       "       [19.],\n",
       "       [11.],\n",
       "       ...,\n",
       "       [ 7.],\n",
       "       [11.],\n",
       "       [11.]])"
      ]
     },
     "execution_count": 33,
     "metadata": {},
     "output_type": "execute_result"
    }
   ],
   "source": [
    "g = z[:,7:]\n",
    "g"
   ]
  },
  {
   "cell_type": "code",
   "execution_count": 34,
   "id": "1c877079",
   "metadata": {},
   "outputs": [
    {
     "data": {
      "text/plain": [
       "array([ 1.,  2.,  3.,  4.,  5.,  6.,  7.,  8.,  9., 10., 11., 12., 13.,\n",
       "       14., 15., 16., 17., 18., 19., 20., 21., 22., 23., 24., 25., 26.,\n",
       "       27., 29.])"
      ]
     },
     "execution_count": 34,
     "metadata": {},
     "output_type": "execute_result"
    }
   ],
   "source": [
    "np.unique(g)"
   ]
  },
  {
   "cell_type": "code",
   "execution_count": 35,
   "id": "300890a8",
   "metadata": {},
   "outputs": [
    {
     "data": {
      "text/plain": [
       "(array([ 1.,  2.,  3.,  4.,  5.,  6.,  7.,  8.,  9., 10., 11., 12., 13.,\n",
       "        14., 15., 16., 17., 18., 19., 20., 21., 22., 23., 24., 25., 26.,\n",
       "        27., 29.]),\n",
       " array([   46,    42,   625,  2787,  5475, 12450, 18276, 26818, 32906,\n",
       "        30803, 23457, 12717, 10037,  6352,  4831,  3191,  2705,  1953,\n",
       "         1591,  1206,   721,   296,   352,   110,    51,    46,    99,\n",
       "           57], dtype=int64))"
      ]
     },
     "execution_count": 35,
     "metadata": {},
     "output_type": "execute_result"
    }
   ],
   "source": [
    "np.unique(g,return_counts = True)"
   ]
  },
  {
   "cell_type": "markdown",
   "id": "f3e1f05a",
   "metadata": {},
   "source": [
    "### 8. What is the difference between shucked weight and viscara weight"
   ]
  },
  {
   "cell_type": "code",
   "execution_count": 18,
   "id": "e7b63b4c",
   "metadata": {},
   "outputs": [
    {
     "data": {
      "text/plain": [
       "array([[12.303683  ],\n",
       "       [ 7.654365  ],\n",
       "       [11.12717875],\n",
       "       ...,\n",
       "       [ 4.9044635 ],\n",
       "       [13.19669225],\n",
       "       [17.22232125]])"
      ]
     },
     "execution_count": 18,
     "metadata": {},
     "output_type": "execute_result"
    }
   ],
   "source": [
    "h = z[:,4:5]\n",
    "h"
   ]
  },
  {
   "cell_type": "code",
   "execution_count": 19,
   "id": "8803e037",
   "metadata": {},
   "outputs": [
    {
     "data": {
      "text/plain": [
       "array([[6.3219385 ],\n",
       "       [3.798833  ],\n",
       "       [7.01650125],\n",
       "       ...,\n",
       "       [1.984465  ],\n",
       "       [7.86698625],\n",
       "       [7.38504475]])"
      ]
     },
     "execution_count": 19,
     "metadata": {},
     "output_type": "execute_result"
    }
   ],
   "source": [
    "h1 = z[:,5:6]\n",
    "h1"
   ]
  },
  {
   "cell_type": "code",
   "execution_count": 20,
   "id": "17be4356",
   "metadata": {},
   "outputs": [
    {
     "data": {
      "text/plain": [
       "array([[5.9817445],\n",
       "       [3.855532 ],\n",
       "       [4.1106775],\n",
       "       ...,\n",
       "       [2.9199985],\n",
       "       [5.329706 ],\n",
       "       [9.8372765]])"
      ]
     },
     "execution_count": 20,
     "metadata": {},
     "output_type": "execute_result"
    }
   ],
   "source": [
    "h2 = h - h1\n",
    "h2"
   ]
  },
  {
   "cell_type": "code",
   "execution_count": null,
   "id": "22c04d87",
   "metadata": {},
   "outputs": [],
   "source": []
  },
  {
   "cell_type": "markdown",
   "id": "6e01f498",
   "metadata": {},
   "source": [
    "### 9. What is the average height of persons whose age is between 14 and 19"
   ]
  },
  {
   "cell_type": "code",
   "execution_count": 64,
   "id": "4e0021f5",
   "metadata": {},
   "outputs": [
    {
     "data": {
      "text/plain": [
       "array([[10.],\n",
       "       [19.],\n",
       "       [11.],\n",
       "       ...,\n",
       "       [ 7.],\n",
       "       [11.],\n",
       "       [11.]])"
      ]
     },
     "execution_count": 64,
     "metadata": {},
     "output_type": "execute_result"
    }
   ],
   "source": [
    "i = z[:,7:]\n",
    "i"
   ]
  },
  {
   "cell_type": "code",
   "execution_count": 65,
   "id": "4eac617a",
   "metadata": {},
   "outputs": [
    {
     "data": {
      "text/plain": [
       "(array([    15,     32,     38, ..., 199971, 199972, 199993], dtype=int64),\n",
       " array([0, 0, 0, ..., 0, 0, 0], dtype=int64))"
      ]
     },
     "execution_count": 65,
     "metadata": {},
     "output_type": "execute_result"
    }
   ],
   "source": [
    "i1 = np.where((i>14)&(i<19))\n",
    "i1"
   ]
  },
  {
   "cell_type": "code",
   "execution_count": 66,
   "id": "eb563aec",
   "metadata": {},
   "outputs": [
    {
     "data": {
      "text/plain": [
       "array([[0.375 ],\n",
       "       [0.375 ],\n",
       "       [0.4125],\n",
       "       ...,\n",
       "       [0.2875],\n",
       "       [0.4125],\n",
       "       [0.3875]])"
      ]
     },
     "execution_count": 66,
     "metadata": {},
     "output_type": "execute_result"
    }
   ],
   "source": [
    "i2 = z[:,2:3]\n",
    "i2"
   ]
  },
  {
   "cell_type": "code",
   "execution_count": 71,
   "id": "85a04dce",
   "metadata": {},
   "outputs": [
    {
     "data": {
      "text/plain": [
       "array([[0.3875, 0.3625, 0.4   , ..., 0.35  , 0.4375, 0.375 ],\n",
       "       [0.375 , 0.375 , 0.375 , ..., 0.375 , 0.375 , 0.375 ]])"
      ]
     },
     "execution_count": 71,
     "metadata": {},
     "output_type": "execute_result"
    }
   ],
   "source": [
    "i3 = i2.take(i1)\n",
    "i3"
   ]
  },
  {
   "cell_type": "code",
   "execution_count": 72,
   "id": "5acc930b",
   "metadata": {},
   "outputs": [
    {
     "data": {
      "text/plain": [
       "0.397035094637224"
      ]
     },
     "execution_count": 72,
     "metadata": {},
     "output_type": "execute_result"
    }
   ],
   "source": [
    "np.mean(i3)"
   ]
  },
  {
   "cell_type": "markdown",
   "id": "8e839bfb",
   "metadata": {},
   "source": [
    "### 10. What is the average weight if we include shucked weight, viscera weight, shell weight"
   ]
  },
  {
   "cell_type": "code",
   "execution_count": 22,
   "id": "b90dc13d",
   "metadata": {},
   "outputs": [
    {
     "data": {
      "text/plain": [
       "array([[12.303683  ],\n",
       "       [ 7.654365  ],\n",
       "       [11.12717875],\n",
       "       ...,\n",
       "       [ 4.9044635 ],\n",
       "       [13.19669225],\n",
       "       [17.22232125]])"
      ]
     },
     "execution_count": 22,
     "metadata": {},
     "output_type": "execute_result"
    }
   ],
   "source": [
    "j = z[:,4:5]\n",
    "j"
   ]
  },
  {
   "cell_type": "code",
   "execution_count": 23,
   "id": "537ecfaa",
   "metadata": {},
   "outputs": [
    {
     "data": {
      "text/plain": [
       "array([[6.3219385 ],\n",
       "       [3.798833  ],\n",
       "       [7.01650125],\n",
       "       ...,\n",
       "       [1.984465  ],\n",
       "       [7.86698625],\n",
       "       [7.38504475]])"
      ]
     },
     "execution_count": 23,
     "metadata": {},
     "output_type": "execute_result"
    }
   ],
   "source": [
    "j1 = z[:,5:6]\n",
    "j1"
   ]
  },
  {
   "cell_type": "code",
   "execution_count": 24,
   "id": "b2b48def",
   "metadata": {},
   "outputs": [
    {
     "data": {
      "text/plain": [
       "array([[ 9.63883 ],\n",
       "       [ 7.654365],\n",
       "       [ 7.257472],\n",
       "       ...,\n",
       "       [ 3.118445],\n",
       "       [10.489315],\n",
       "       [ 8.788345]])"
      ]
     },
     "execution_count": 24,
     "metadata": {},
     "output_type": "execute_result"
    }
   ],
   "source": [
    "j2 = z[:,6:7]\n",
    "j2"
   ]
  },
  {
   "cell_type": "code",
   "execution_count": 25,
   "id": "ebf4bdd4",
   "metadata": {},
   "outputs": [
    {
     "data": {
      "text/plain": [
       "array([[28.2644515],\n",
       "       [19.107563 ],\n",
       "       [25.401152 ],\n",
       "       ...,\n",
       "       [10.0073735],\n",
       "       [31.5529935],\n",
       "       [33.395711 ]])"
      ]
     },
     "execution_count": 25,
     "metadata": {},
     "output_type": "execute_result"
    }
   ],
   "source": [
    "j3= j+j1+j2\n",
    "j3"
   ]
  },
  {
   "cell_type": "code",
   "execution_count": 26,
   "id": "8ec106d7",
   "metadata": {},
   "outputs": [
    {
     "data": {
      "text/plain": [
       "21.616780352404746"
      ]
     },
     "execution_count": 26,
     "metadata": {},
     "output_type": "execute_result"
    }
   ],
   "source": [
    "np.mean(j3)"
   ]
  },
  {
   "cell_type": "code",
   "execution_count": null,
   "id": "5549bb66",
   "metadata": {},
   "outputs": [],
   "source": []
  },
  {
   "cell_type": "code",
   "execution_count": null,
   "id": "6ad8fb80",
   "metadata": {},
   "outputs": [],
   "source": []
  }
 ],
 "metadata": {
  "kernelspec": {
   "display_name": "Python 3 (ipykernel)",
   "language": "python",
   "name": "python3"
  },
  "language_info": {
   "codemirror_mode": {
    "name": "ipython",
    "version": 3
   },
   "file_extension": ".py",
   "mimetype": "text/x-python",
   "name": "python",
   "nbconvert_exporter": "python",
   "pygments_lexer": "ipython3",
   "version": "3.11.3"
  }
 },
 "nbformat": 4,
 "nbformat_minor": 5
}
